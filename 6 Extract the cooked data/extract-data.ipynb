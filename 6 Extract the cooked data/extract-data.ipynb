{
 "cells": [
  {
   "cell_type": "code",
   "execution_count": null,
   "metadata": {},
   "outputs": [],
   "source": [
    "INPUT_POSTING_OFFICE_ONLY_OFFICE_CODING_PATH = \"../../CGED DATA/posting_office_only_office_coding.xlsx\"\n",
    "INPUT_POSTING_OFFICE_ADDR_OFFICE_CODING_PATH = \"../../CGED DATA/posting_office_addr_office_coding.xlsx\"\n",
    "INPUT_POSTING_OFFICE_ADDR_ADDR_CODING_PATH = \"../../CGED DATA/posting_office_addr_addr_coding.xlsx\""
   ]
  }
 ],
 "metadata": {
  "language_info": {
   "name": "python"
  }
 },
 "nbformat": 4,
 "nbformat_minor": 2
}
